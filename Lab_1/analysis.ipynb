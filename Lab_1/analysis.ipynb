{
 "cells": [
  {
   "cell_type": "code",
   "execution_count": 2,
   "metadata": {},
   "outputs": [],
   "source": [
    "import pandas as pd\n",
    "import numpy as np\n",
    "import os\n",
    "import matplotlib.pyplot as plt"
   ]
  },
  {
   "cell_type": "code",
   "execution_count": 3,
   "metadata": {},
   "outputs": [
    {
     "name": "stdout",
     "output_type": "stream",
     "text": [
      "             0                   1                          2   \\\n",
      "0  Data Point #   Motor Speed [RPM]   Manometer delta P [dpsi]   \n",
      "1   1.000000E+0         4.000000E+2                5.780464E-3   \n",
      "2   2.000000E+0         5.000000E+2                9.031975E-3   \n",
      "3   3.000000E+0         6.000000E+2                1.300604E-2   \n",
      "4   4.000000E+0         7.000000E+2                1.842523E-2   \n",
      "\n",
      "                  3                       4                       5   \\\n",
      "0   Ambient Temp.[R]   Viscosity [slug/ft s]   Ambient Press. [psia]   \n",
      "1        5.312700E+2             3.807326E-7             1.411074E+1   \n",
      "2        5.321700E+2             3.812305E-7             1.411074E+1   \n",
      "3        5.321700E+2             3.812305E-7             1.411074E+1   \n",
      "4        5.330700E+2             3.817279E-7             1.411074E+1   \n",
      "\n",
      "                                  6               7              8   \\\n",
      "0   Omega Transmitter delta P [dpsi]   RakeT1 [psid]  RakeT2 [psid]   \n",
      "1                        5.507200E-3     4.554667E-3    4.460200E-3   \n",
      "2                        8.917387E-3     7.520367E-3    7.394233E-3   \n",
      "3                        1.300762E-2     1.113943E-2    1.096773E-2   \n",
      "4                        1.835740E-2     1.580710E-2    1.559340E-2   \n",
      "\n",
      "              9   ...             11             12             13  \\\n",
      "0  RakeT3 [psid]  ...  RakeT5 [psid]  RakeT6 [psid]  RakeT7 [psid]   \n",
      "1    4.490100E-3  ...    4.587467E-3    4.592267E-3    4.477500E-3   \n",
      "2    7.403200E-3  ...    7.535967E-3    7.536800E-3    7.460700E-3   \n",
      "3    1.099527E-2  ...    1.114143E-2    1.117863E-2    1.100583E-2   \n",
      "4    1.558590E-2  ...    1.580757E-2    1.587043E-2    1.557210E-2   \n",
      "\n",
      "              14             15             16             17             18  \\\n",
      "0  RakeT8 [psid]  RakeT9 [psid]  RakeS1 [psid]  RakeS2 [psid]  RakeS3 [psid]   \n",
      "1    4.457600E-3    4.429967E-3    7.300000E-5    1.214000E-4    6.130000E-5   \n",
      "2    7.445767E-3    7.503467E-3    1.434667E-4    2.743000E-4    1.534000E-4   \n",
      "3    1.103890E-2    1.100297E-2    1.815000E-4    3.374333E-4    1.732667E-4   \n",
      "4    1.564673E-2    1.556770E-2    2.692333E-4    4.710000E-4    2.809333E-4   \n",
      "\n",
      "              19             20  \n",
      "0  RakeS4 [psid]  RakeS5 [psid]  \n",
      "1    5.610000E-5    1.450000E-5  \n",
      "2    1.644333E-4    1.332000E-4  \n",
      "3    1.576667E-4    9.730000E-5  \n",
      "4    3.009333E-4    1.710000E-4  \n",
      "\n",
      "[5 rows x 21 columns]\n"
     ]
    }
   ],
   "source": [
    "data = pd.read_csv(os.path.join(os.getcwd(), 'Data', 'Data.csv'), sep=',', header=None)\n",
    "print(data.head())"
   ]
  },
  {
   "cell_type": "code",
   "execution_count": null,
   "metadata": {},
   "outputs": [],
   "source": []
  }
 ],
 "metadata": {
  "kernelspec": {
   "display_name": "Python 3",
   "language": "python",
   "name": "python3"
  },
  "language_info": {
   "codemirror_mode": {
    "name": "ipython",
    "version": 3
   },
   "file_extension": ".py",
   "mimetype": "text/x-python",
   "name": "python",
   "nbconvert_exporter": "python",
   "pygments_lexer": "ipython3",
   "version": "3.10.8"
  },
  "orig_nbformat": 4
 },
 "nbformat": 4,
 "nbformat_minor": 2
}
