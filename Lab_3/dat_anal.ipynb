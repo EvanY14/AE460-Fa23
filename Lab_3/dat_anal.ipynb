{
 "cells": [
  {
   "cell_type": "code",
   "execution_count": null,
   "metadata": {},
   "outputs": [],
   "source": [
    "import numpy as np\n",
    "import pandas as pd\n",
    "import matplotlib.pyplot as plt"
   ]
  },
  {
   "cell_type": "code",
   "execution_count": null,
   "metadata": {},
   "outputs": [],
   "source": [
    "# Constants\n",
    "p_amb = 102387.15 # Pa\n",
    "stagTemp = 295 #\n",
    "T_amb = 295 #K K\n",
    "jetDiam = 0.00508 # m\n",
    "gamma = 1.4\n",
    "R = 287 # J/kgK"
   ]
  },
  {
   "cell_type": "code",
   "execution_count": null,
   "metadata": {},
   "outputs": [],
   "source": [
    "# Pull data from csv\n",
    "df = pd.read_csv('data.csv')\n",
    "valvePos = np.array(df['Valve Position'])\n",
    "stagPress = np.array(df['Stagnation Pressure [psia]']) * 6894.76 # Pa\n",
    "loadCell = np.array(df['Load Cell [Lb_(f)]']) * 4.44822 # N\n",
    "df.head()"
   ]
  },
  {
   "cell_type": "code",
   "execution_count": null,
   "metadata": {},
   "outputs": [],
   "source": [
    "# 2a\n",
    "def get2aValues():\n",
    "    rho = p_amb/ (R * T_amb)\n",
    "    \n",
    "    V_exit = np.sqrt(2 * (stagPress - p_amb) / rho)\n",
    "    M_exit = V_exit / np.sqrt(gamma*R*T_amb)\n",
    "    return p_amb, V_exit, rho, M_exit"
   ]
  },
  {
   "cell_type": "code",
   "execution_count": null,
   "metadata": {},
   "outputs": [],
   "source": [
    "# 2b \n",
    "def get2bValues():\n",
    "    M_exit = np.sqrt(2/(gamma-1) * ((stagPress/p_amb)**((gamma-1)/gamma) - 1))\n",
    "    T_exit = T_amb/(1 + (gamma-1)/2 * M_exit**2)\n",
    "    P_exit = p_amb/(1 + (gamma-1)/2 * M_exit**2)**(gamma/(gamma-1))\n",
    "    V_exit = M_exit * np.sqrt(gamma*R*T_exit)\n",
    "    rho = P_exit/(R*T_exit)\n",
    "    return P_exit, V_exit, rho, M_exit"
   ]
  },
  {
   "cell_type": "code",
   "execution_count": null,
   "metadata": {},
   "outputs": [],
   "source": [
    "# 2c\n",
    "def get2cValues():\n",
    "    P_exit = stagPress/1.893\n",
    "    T_exit = T_amb/1.2\n",
    "    V_exit = np.sqrt(gamma*R*T_exit)\n",
    "    M_exit = 1\n",
    "    rho = P_exit/(R*T_exit)\n",
    "    return P_exit, V_exit, rho, M_exit"
   ]
  },
  {
   "cell_type": "code",
   "execution_count": null,
   "metadata": {},
   "outputs": [],
   "source": [
    "# Thrust Function\n",
    "def thrust(P_exit, P_atm, A_exit, V_exit, rho_exit):\n",
    "    return (P_exit - P_atm)*A_exit + V_exit**2*rho_exit*A_exit"
   ]
  },
  {
   "cell_type": "code",
   "execution_count": null,
   "metadata": {},
   "outputs": [],
   "source": [
    "# number 1\n",
    "# just tabulate thrust vs. stagnation pressure\n",
    "thrust_1 = loadCell"
   ]
  },
  {
   "cell_type": "code",
   "execution_count": null,
   "metadata": {},
   "outputs": [],
   "source": [
    "#number 2\n",
    "\n",
    "# then plot a line indicating Ma=1"
   ]
  },
  {
   "cell_type": "code",
   "execution_count": null,
   "metadata": {},
   "outputs": [],
   "source": [
    "#number 3\n"
   ]
  },
  {
   "cell_type": "code",
   "execution_count": null,
   "metadata": {},
   "outputs": [],
   "source": [
    "#number 4"
   ]
  },
  {
   "cell_type": "code",
   "execution_count": null,
   "metadata": {},
   "outputs": [],
   "source": [
    "#number 5\n"
   ]
  }
 ],
 "metadata": {
  "kernelspec": {
   "display_name": "Python 3",
   "language": "python",
   "name": "python3"
  },
  "language_info": {
   "codemirror_mode": {
    "name": "ipython",
    "version": 3
   },
   "file_extension": ".py",
   "mimetype": "text/x-python",
   "name": "python",
   "nbconvert_exporter": "python",
   "pygments_lexer": "ipython3",
   "version": "3.10.2"
  },
  "orig_nbformat": 4
 },
 "nbformat": 4,
 "nbformat_minor": 2
}
