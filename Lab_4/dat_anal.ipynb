{
 "cells": [
  {
   "cell_type": "code",
   "execution_count": 1,
   "metadata": {},
   "outputs": [],
   "source": [
    "import numpy as np\n",
    "import pandas as pd\n",
    "import matplotlib.pyplot as plt\n",
    "from IPython.display import display, HTML"
   ]
  },
  {
   "cell_type": "markdown",
   "metadata": {},
   "source": [
    "## Set up ##"
   ]
  },
  {
   "cell_type": "code",
   "execution_count": 2,
   "metadata": {},
   "outputs": [],
   "source": [
    "q_correction = 0.890\n",
    "p_atm = 96500.000\n",
    "t_atm = 22.000\n",
    "rho_atm = 1.140"
   ]
  },
  {
   "cell_type": "markdown",
   "metadata": {},
   "source": [
    "## Calibration Coefficients ##"
   ]
  },
  {
   "cell_type": "code",
   "execution_count": null,
   "metadata": {},
   "outputs": [],
   "source": [
    "a0 = -30.117\n",
    "a1 = 65.927\n",
    "a2 = -42.750\n",
    "a3 = 1.985\n",
    "a4 = 4.417"
   ]
  },
  {
   "cell_type": "code",
   "execution_count": null,
   "metadata": {},
   "outputs": [],
   "source": [
    "freesteam_vel_pos = [19.964, 19.946, 19.956, 19.952]\n",
    "streamwise_locations_pos = [66.700, 104.800, 161.900, 238.100]"
   ]
  },
  {
   "cell_type": "code",
   "execution_count": null,
   "metadata": {},
   "outputs": [],
   "source": [
    "freesteam_vel_speed = [10.136, 15.176, 19.991]\n",
    "streamwise_locations_speed = [66.700, 66.700, 66.700]\n",
    "lateral_location_speed = [14.000, 14.000, 14.000]"
   ]
  }
 ],
 "metadata": {
  "kernelspec": {
   "display_name": "ae353",
   "language": "python",
   "name": "python3"
  },
  "language_info": {
   "codemirror_mode": {
    "name": "ipython",
    "version": 3
   },
   "file_extension": ".py",
   "mimetype": "text/x-python",
   "name": "python",
   "nbconvert_exporter": "python",
   "pygments_lexer": "ipython3",
   "version": "3.10.2"
  }
 },
 "nbformat": 4,
 "nbformat_minor": 2
}
